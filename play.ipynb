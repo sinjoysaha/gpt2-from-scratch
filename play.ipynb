{
 "cells": [
  {
   "cell_type": "code",
   "execution_count": 44,
   "metadata": {},
   "outputs": [],
   "source": [
    "import matplotlib.pyplot as plt\n",
    "import plotly.express as px\n",
    "\n",
    "from transformers import GPT2LMHeadModel"
   ]
  },
  {
   "cell_type": "code",
   "execution_count": 45,
   "metadata": {},
   "outputs": [
    {
     "name": "stdout",
     "output_type": "stream",
     "text": [
      "transformer.wte.weight              torch.Size([50257, 768])\n",
      "transformer.wpe.weight              torch.Size([1024, 768])\n",
      "transformer.h.0.ln_1.weight         torch.Size([768])\n",
      "transformer.h.0.ln_1.bias           torch.Size([768])\n",
      "transformer.h.0.attn.c_attn.weight  torch.Size([768, 2304])\n",
      "transformer.h.0.attn.c_attn.bias    torch.Size([2304])\n",
      "transformer.h.0.attn.c_proj.weight  torch.Size([768, 768])\n",
      "transformer.h.0.attn.c_proj.bias    torch.Size([768])\n",
      "transformer.h.0.ln_2.weight         torch.Size([768])\n",
      "transformer.h.0.ln_2.bias           torch.Size([768])\n",
      "transformer.h.0.mlp.c_fc.weight     torch.Size([768, 3072])\n",
      "transformer.h.0.mlp.c_fc.bias       torch.Size([3072])\n",
      "transformer.h.0.mlp.c_proj.weight   torch.Size([3072, 768])\n",
      "transformer.h.0.mlp.c_proj.bias     torch.Size([768])\n",
      "transformer.h.1.ln_1.weight         torch.Size([768])\n",
      "transformer.h.1.ln_1.bias           torch.Size([768])\n",
      "transformer.h.1.attn.c_attn.weight  torch.Size([768, 2304])\n",
      "transformer.h.1.attn.c_attn.bias    torch.Size([2304])\n",
      "transformer.h.1.attn.c_proj.weight  torch.Size([768, 768])\n",
      "transformer.h.1.attn.c_proj.bias    torch.Size([768])\n",
      "transformer.h.1.ln_2.weight         torch.Size([768])\n",
      "transformer.h.1.ln_2.bias           torch.Size([768])\n",
      "transformer.h.1.mlp.c_fc.weight     torch.Size([768, 3072])\n",
      "transformer.h.1.mlp.c_fc.bias       torch.Size([3072])\n",
      "transformer.h.1.mlp.c_proj.weight   torch.Size([3072, 768])\n",
      "transformer.h.1.mlp.c_proj.bias     torch.Size([768])\n",
      "transformer.h.2.ln_1.weight         torch.Size([768])\n",
      "transformer.h.2.ln_1.bias           torch.Size([768])\n",
      "transformer.h.2.attn.c_attn.weight  torch.Size([768, 2304])\n",
      "transformer.h.2.attn.c_attn.bias    torch.Size([2304])\n",
      "transformer.h.2.attn.c_proj.weight  torch.Size([768, 768])\n",
      "transformer.h.2.attn.c_proj.bias    torch.Size([768])\n",
      "transformer.h.2.ln_2.weight         torch.Size([768])\n",
      "transformer.h.2.ln_2.bias           torch.Size([768])\n",
      "transformer.h.2.mlp.c_fc.weight     torch.Size([768, 3072])\n",
      "transformer.h.2.mlp.c_fc.bias       torch.Size([3072])\n",
      "transformer.h.2.mlp.c_proj.weight   torch.Size([3072, 768])\n",
      "transformer.h.2.mlp.c_proj.bias     torch.Size([768])\n",
      "transformer.h.3.ln_1.weight         torch.Size([768])\n",
      "transformer.h.3.ln_1.bias           torch.Size([768])\n",
      "transformer.h.3.attn.c_attn.weight  torch.Size([768, 2304])\n",
      "transformer.h.3.attn.c_attn.bias    torch.Size([2304])\n",
      "transformer.h.3.attn.c_proj.weight  torch.Size([768, 768])\n",
      "transformer.h.3.attn.c_proj.bias    torch.Size([768])\n",
      "transformer.h.3.ln_2.weight         torch.Size([768])\n",
      "transformer.h.3.ln_2.bias           torch.Size([768])\n",
      "transformer.h.3.mlp.c_fc.weight     torch.Size([768, 3072])\n",
      "transformer.h.3.mlp.c_fc.bias       torch.Size([3072])\n",
      "transformer.h.3.mlp.c_proj.weight   torch.Size([3072, 768])\n",
      "transformer.h.3.mlp.c_proj.bias     torch.Size([768])\n",
      "transformer.h.4.ln_1.weight         torch.Size([768])\n",
      "transformer.h.4.ln_1.bias           torch.Size([768])\n",
      "transformer.h.4.attn.c_attn.weight  torch.Size([768, 2304])\n",
      "transformer.h.4.attn.c_attn.bias    torch.Size([2304])\n",
      "transformer.h.4.attn.c_proj.weight  torch.Size([768, 768])\n",
      "transformer.h.4.attn.c_proj.bias    torch.Size([768])\n",
      "transformer.h.4.ln_2.weight         torch.Size([768])\n",
      "transformer.h.4.ln_2.bias           torch.Size([768])\n",
      "transformer.h.4.mlp.c_fc.weight     torch.Size([768, 3072])\n",
      "transformer.h.4.mlp.c_fc.bias       torch.Size([3072])\n",
      "transformer.h.4.mlp.c_proj.weight   torch.Size([3072, 768])\n",
      "transformer.h.4.mlp.c_proj.bias     torch.Size([768])\n",
      "transformer.h.5.ln_1.weight         torch.Size([768])\n",
      "transformer.h.5.ln_1.bias           torch.Size([768])\n",
      "transformer.h.5.attn.c_attn.weight  torch.Size([768, 2304])\n",
      "transformer.h.5.attn.c_attn.bias    torch.Size([2304])\n",
      "transformer.h.5.attn.c_proj.weight  torch.Size([768, 768])\n",
      "transformer.h.5.attn.c_proj.bias    torch.Size([768])\n",
      "transformer.h.5.ln_2.weight         torch.Size([768])\n",
      "transformer.h.5.ln_2.bias           torch.Size([768])\n",
      "transformer.h.5.mlp.c_fc.weight     torch.Size([768, 3072])\n",
      "transformer.h.5.mlp.c_fc.bias       torch.Size([3072])\n",
      "transformer.h.5.mlp.c_proj.weight   torch.Size([3072, 768])\n",
      "transformer.h.5.mlp.c_proj.bias     torch.Size([768])\n",
      "transformer.h.6.ln_1.weight         torch.Size([768])\n",
      "transformer.h.6.ln_1.bias           torch.Size([768])\n",
      "transformer.h.6.attn.c_attn.weight  torch.Size([768, 2304])\n",
      "transformer.h.6.attn.c_attn.bias    torch.Size([2304])\n",
      "transformer.h.6.attn.c_proj.weight  torch.Size([768, 768])\n",
      "transformer.h.6.attn.c_proj.bias    torch.Size([768])\n",
      "transformer.h.6.ln_2.weight         torch.Size([768])\n",
      "transformer.h.6.ln_2.bias           torch.Size([768])\n",
      "transformer.h.6.mlp.c_fc.weight     torch.Size([768, 3072])\n",
      "transformer.h.6.mlp.c_fc.bias       torch.Size([3072])\n",
      "transformer.h.6.mlp.c_proj.weight   torch.Size([3072, 768])\n",
      "transformer.h.6.mlp.c_proj.bias     torch.Size([768])\n",
      "transformer.h.7.ln_1.weight         torch.Size([768])\n",
      "transformer.h.7.ln_1.bias           torch.Size([768])\n",
      "transformer.h.7.attn.c_attn.weight  torch.Size([768, 2304])\n",
      "transformer.h.7.attn.c_attn.bias    torch.Size([2304])\n",
      "transformer.h.7.attn.c_proj.weight  torch.Size([768, 768])\n",
      "transformer.h.7.attn.c_proj.bias    torch.Size([768])\n",
      "transformer.h.7.ln_2.weight         torch.Size([768])\n",
      "transformer.h.7.ln_2.bias           torch.Size([768])\n",
      "transformer.h.7.mlp.c_fc.weight     torch.Size([768, 3072])\n",
      "transformer.h.7.mlp.c_fc.bias       torch.Size([3072])\n",
      "transformer.h.7.mlp.c_proj.weight   torch.Size([3072, 768])\n",
      "transformer.h.7.mlp.c_proj.bias     torch.Size([768])\n",
      "transformer.h.8.ln_1.weight         torch.Size([768])\n",
      "transformer.h.8.ln_1.bias           torch.Size([768])\n",
      "transformer.h.8.attn.c_attn.weight  torch.Size([768, 2304])\n",
      "transformer.h.8.attn.c_attn.bias    torch.Size([2304])\n",
      "transformer.h.8.attn.c_proj.weight  torch.Size([768, 768])\n",
      "transformer.h.8.attn.c_proj.bias    torch.Size([768])\n",
      "transformer.h.8.ln_2.weight         torch.Size([768])\n",
      "transformer.h.8.ln_2.bias           torch.Size([768])\n",
      "transformer.h.8.mlp.c_fc.weight     torch.Size([768, 3072])\n",
      "transformer.h.8.mlp.c_fc.bias       torch.Size([3072])\n",
      "transformer.h.8.mlp.c_proj.weight   torch.Size([3072, 768])\n",
      "transformer.h.8.mlp.c_proj.bias     torch.Size([768])\n",
      "transformer.h.9.ln_1.weight         torch.Size([768])\n",
      "transformer.h.9.ln_1.bias           torch.Size([768])\n",
      "transformer.h.9.attn.c_attn.weight  torch.Size([768, 2304])\n",
      "transformer.h.9.attn.c_attn.bias    torch.Size([2304])\n",
      "transformer.h.9.attn.c_proj.weight  torch.Size([768, 768])\n",
      "transformer.h.9.attn.c_proj.bias    torch.Size([768])\n",
      "transformer.h.9.ln_2.weight         torch.Size([768])\n",
      "transformer.h.9.ln_2.bias           torch.Size([768])\n",
      "transformer.h.9.mlp.c_fc.weight     torch.Size([768, 3072])\n",
      "transformer.h.9.mlp.c_fc.bias       torch.Size([3072])\n",
      "transformer.h.9.mlp.c_proj.weight   torch.Size([3072, 768])\n",
      "transformer.h.9.mlp.c_proj.bias     torch.Size([768])\n",
      "transformer.h.10.ln_1.weight        torch.Size([768])\n",
      "transformer.h.10.ln_1.bias          torch.Size([768])\n",
      "transformer.h.10.attn.c_attn.weight torch.Size([768, 2304])\n",
      "transformer.h.10.attn.c_attn.bias   torch.Size([2304])\n",
      "transformer.h.10.attn.c_proj.weight torch.Size([768, 768])\n",
      "transformer.h.10.attn.c_proj.bias   torch.Size([768])\n",
      "transformer.h.10.ln_2.weight        torch.Size([768])\n",
      "transformer.h.10.ln_2.bias          torch.Size([768])\n",
      "transformer.h.10.mlp.c_fc.weight    torch.Size([768, 3072])\n",
      "transformer.h.10.mlp.c_fc.bias      torch.Size([3072])\n",
      "transformer.h.10.mlp.c_proj.weight  torch.Size([3072, 768])\n",
      "transformer.h.10.mlp.c_proj.bias    torch.Size([768])\n",
      "transformer.h.11.ln_1.weight        torch.Size([768])\n",
      "transformer.h.11.ln_1.bias          torch.Size([768])\n",
      "transformer.h.11.attn.c_attn.weight torch.Size([768, 2304])\n",
      "transformer.h.11.attn.c_attn.bias   torch.Size([2304])\n",
      "transformer.h.11.attn.c_proj.weight torch.Size([768, 768])\n",
      "transformer.h.11.attn.c_proj.bias   torch.Size([768])\n",
      "transformer.h.11.ln_2.weight        torch.Size([768])\n",
      "transformer.h.11.ln_2.bias          torch.Size([768])\n",
      "transformer.h.11.mlp.c_fc.weight    torch.Size([768, 3072])\n",
      "transformer.h.11.mlp.c_fc.bias      torch.Size([3072])\n",
      "transformer.h.11.mlp.c_proj.weight  torch.Size([3072, 768])\n",
      "transformer.h.11.mlp.c_proj.bias    torch.Size([768])\n",
      "transformer.ln_f.weight             torch.Size([768])\n",
      "transformer.ln_f.bias               torch.Size([768])\n",
      "lm_head.weight                      torch.Size([50257, 768])\n"
     ]
    }
   ],
   "source": [
    "model_hf = GPT2LMHeadModel.from_pretrained(\"gpt2\") # 124M\n",
    "sd_hf = model_hf.state_dict()\n",
    "for k, v in sd_hf.items():\n",
    "    print(f\"{k:35} {v.shape}\")"
   ]
  },
  {
   "cell_type": "code",
   "execution_count": 46,
   "metadata": {},
   "outputs": [
    {
     "data": {
      "text/plain": [
       "(torch.Size([786432]),\n",
       " tensor([-0.0188, -0.1974,  0.0040,  0.0113,  0.0638, -0.1050,  0.0369, -0.1680,\n",
       "         -0.0491, -0.0565, -0.0025,  0.0135, -0.0042,  0.0151,  0.0166, -0.1381,\n",
       "         -0.0063, -0.0461,  0.0267, -0.2042]))"
      ]
     },
     "execution_count": 46,
     "metadata": {},
     "output_type": "execute_result"
    }
   ],
   "source": [
    "sd_hf[\"transformer.wpe.weight\"].view(-1).shape, sd_hf[\"transformer.wpe.weight\"].view(-1)[:20]"
   ]
  },
  {
   "cell_type": "code",
   "execution_count": 47,
   "metadata": {},
   "outputs": [],
   "source": [
    "# Makes the notebook unnecessarily big!\n",
    "# # px.imshow(sd_hf[\"transformer.wpe.weight\"], color_continuous_scale=\"gray\")"
   ]
  },
  {
   "cell_type": "code",
   "execution_count": 50,
   "metadata": {},
   "outputs": [
    {
     "data": {
      "image/png": "[encoded data removed]",
      "text/plain": [
       "<Figure size 640x480 with 1 Axes>"
      ]
     },
     "metadata": {},
     "output_type": "display_data"
    }
   ],
   "source": [
    "plt.imshow(sd_hf[\"transformer.wpe.weight\"], cmap=\"gray\")\n",
    "plt.show()"
   ]
  },
  {
   "cell_type": "code",
   "execution_count": 48,
   "metadata": {},
   "outputs": [
    {
     "data": {
      "image/png": "[encoded data removed]",
      "text/plain": [
       "<Figure size 640x480 with 1 Axes>"
      ]
     },
     "metadata": {},
     "output_type": "display_data"
    }
   ],
   "source": [
    "plt.hist(sd_hf[\"transformer.wpe.weight\"].view(-1), bins=20)\n",
    "plt.show()"
   ]
  },
  {
   "cell_type": "code",
   "execution_count": 6,
   "metadata": {},
   "outputs": [
    {
     "data": {
      "image/png": "[encoded data removed]",
      "text/plain": [
       "<Figure size 640x480 with 1 Axes>"
      ]
     },
     "metadata": {},
     "output_type": "display_data"
    }
   ],
   "source": [
    "idx_list = [150, 200, 250, 100, 64, 128, 256, 512]\n",
    "for i in idx_list:\n",
    "    plt.plot(sd_hf[\"transformer.wpe.weight\"][:, i])\n",
    "plt.legend(idx_list)\n",
    "plt.show()"
   ]
  },
  {
   "cell_type": "code",
   "execution_count": 51,
   "metadata": {},
   "outputs": [],
   "source": [
    "# Makes the notebook unnecessarily big!\n",
    "# px.imshow(sd_hf[\"transformer.h.1.attn.c_attn.weight\"][:300,:300], color_continuous_scale=\"gray\")"
   ]
  },
  {
   "cell_type": "code",
   "execution_count": 52,
   "metadata": {},
   "outputs": [
    {
     "data": {
      "image/png": "[encoded data removed]",
      "text/plain": [
       "<Figure size 640x480 with 1 Axes>"
      ]
     },
     "metadata": {},
     "output_type": "display_data"
    }
   ],
   "source": [
    "plt.imshow(sd_hf[\"transformer.h.1.attn.c_attn.weight\"][:300,:300], cmap=\"gray\")\n",
    "plt.show()"
   ]
  },
  {
   "cell_type": "code",
   "execution_count": 53,
   "metadata": {},
   "outputs": [
    {
     "name": "stderr",
     "output_type": "stream",
     "text": [
      "Device set to use cuda:0\n",
      "Truncation was not explicitly activated but `max_length` is provided a specific value, please use `truncation=True` to explicitly truncate examples to max length. Defaulting to 'longest_first' truncation strategy. If you encode pairs of sequences (GLUE-style) with the tokenizer you can select this strategy more precisely by providing a specific strategy to `truncation`.\n",
      "Setting `pad_token_id` to `eos_token_id`:50256 for open-end generation.\n"
     ]
    },
    {
     "data": {
      "text/plain": [
       "[{'generated_text': \"Hello, I'm a language model, so it'd be hard to say anything about how to call a function. To put it another way, I\"},\n",
       " {'generated_text': \"Hello, I'm a language model, how could you not? But I need to know how to program that model in javascript. I am thinking about\"},\n",
       " {'generated_text': \"Hello, I'm a language model, a language model.\\n\\n[Laughs.]\\n\\n[Laughs.]\\n\\nThat would be a little weird\"},\n",
       " {'generated_text': 'Hello, I\\'m a language model, for example,\" he quipped once, as the next two paragraphs faded to black and purple.\\n\\nOn'},\n",
       " {'generated_text': 'Hello, I\\'m a language model, and I\\'m trying a new tool called \"Java.\" Why can\\'t I use jQuery? The best thing about'}]"
      ]
     },
     "execution_count": 53,
     "metadata": {},
     "output_type": "execute_result"
    }
   ],
   "source": [
    "from transformers import pipeline, set_seed\n",
    "generator = pipeline(\"text-generation\", model=\"gpt2\")\n",
    "set_seed(42)\n",
    "generator(\"Hello, I'm a language model,\", max_length=30, num_return_sequences=5)"
   ]
  },
  {
   "cell_type": "code",
   "execution_count": 54,
   "metadata": {},
   "outputs": [
    {
     "name": "stdout",
     "output_type": "stream",
     "text": [
      "tensor([[15496,    11,   314,  1101,   220,  3303,  2746,    11],\n",
      "        [15496,    11,   314,  1101,   220,  3303,  2746,    11],\n",
      "        [15496,    11,   314,  1101,   220,  3303,  2746,    11],\n",
      "        [15496,    11,   314,  1101,   220,  3303,  2746,    11],\n",
      "        [15496,    11,   314,  1101,   220,  3303,  2746,    11]])\n",
      "> Hello, I'm  language model, I'm going to be doing it here by me.\n",
      "\n",
      "A second question is this: I've done\n",
      "> Hello, I'm  language model, now can I use    me?  That question was brought up a while ago on reddit about a\n",
      "> Hello, I'm  language model, and I see all the features of  language : what is there in  language ? I want to know what\n",
      "> Hello, I'm  language model, I work with a lot of different languages and one of the biggest factors is how they can translate into human language\n",
      "> Hello, I'm  language model, you see. My name is I know my first computer, right? When I get a new computer I don\n"
     ]
    }
   ],
   "source": [
    "import tiktoken\n",
    "import torch\n",
    "from torch.nn import functional as F\n",
    "\n",
    "num_return_sequences = 5\n",
    "max_length = 30\n",
    "\n",
    "model = model_hf.to(\"cuda\")\n",
    "\n",
    "model.eval()\n",
    "enc = tiktoken.get_encoding(\"gpt2\")\n",
    "tokens = enc.encode(\"Hello, I'm  language model,\")\n",
    "tokens = torch.tensor(tokens, dtype=torch.long)  # (8, )\n",
    "tokens = tokens.unsqueeze(0).repeat(num_return_sequences, 1)  # (5, 8)\n",
    "print(tokens)\n",
    "x = tokens.to(\"cuda\")\n",
    "\n",
    "# generate - x = (B, T)\n",
    "torch.manual_seed(42)\n",
    "torch.cuda.manual_seed(42)\n",
    "while x.size(1) < max_length:\n",
    "    # forward\n",
    "    with torch.no_grad():\n",
    "        logits = model(x)[\"logits\"]\n",
    "        # print(logits.size())\n",
    "        logits = logits[:, -1, :]  # last pos logits (B, vocab_size)\n",
    "        probs = F.softmax(logits, dim=-1)  # logits -> probabilities\n",
    "        # top-k sampling 50 (hf pipeline default)\n",
    "        topk_probs, topk_indices = torch.topk(probs, 50, dim=-1)  # both (5, 50)\n",
    "        # sample with the topk_probs\n",
    "        ix = torch.multinomial(topk_probs, 1)  # (B, 1)\n",
    "        # gather - check docs >\n",
    "        xcol = torch.gather(topk_indices, -1, ix)  # (B, 1)\n",
    "        # append to sequence\n",
    "        x = torch.cat((x, xcol), dim=1)\n",
    "\n",
    "# print\n",
    "for i in range(num_return_sequences):\n",
    "    tokens = x[i, :max_length].tolist()\n",
    "    decoded = enc.decode(tokens)\n",
    "    print(\">\", decoded)\n"
   ]
  },
  {
   "cell_type": "code",
   "execution_count": 55,
   "metadata": {},
   "outputs": [
    {
     "name": "stdout",
     "output_type": "stream",
     "text": [
      "First Citizen:\n",
      "Before we proceed any further, hear me speak.\n",
      "\n",
      "All:\n",
      "Speak, speak.\n",
      "\n",
      "First Citizen:\n",
      "You\n"
     ]
    }
   ],
   "source": [
    "with open(\"tinyshakespeare.txt\", \"r\") as f:\n",
    "    data = f.read()\n",
    "print(data[:100])"
   ]
  },
  {
   "cell_type": "code",
   "execution_count": 56,
   "metadata": {},
   "outputs": [
    {
     "name": "stdout",
     "output_type": "stream",
     "text": [
      "[5962, 22307, 25, 198, 8421, 356, 5120, 597, 2252, 11, 3285, 502, 2740, 13, 198, 198, 3237, 25, 198, 5248, 461, 11, 2740, 13]\n"
     ]
    }
   ],
   "source": [
    "import tiktoken\n",
    "enc = tiktoken.get_encoding(\"gpt2\")\n",
    "tokens = enc.encode(data)\n",
    "print(tokens[:24])"
   ]
  },
  {
   "cell_type": "code",
   "execution_count": 57,
   "metadata": {},
   "outputs": [
    {
     "name": "stdout",
     "output_type": "stream",
     "text": [
      "tensor([[ 5962, 22307,    25,   198,  8421,   356],\n",
      "        [ 5120,   597,  2252,    11,  3285,   502],\n",
      "        [ 2740,    13,   198,   198,  3237,    25],\n",
      "        [  198,  5248,   461,    11,  2740,    13]])\n",
      "tensor([[22307,    25,   198,  8421,   356,  5120],\n",
      "        [  597,  2252,    11,  3285,   502,  2740],\n",
      "        [   13,   198,   198,  3237,    25,   198],\n",
      "        [ 5248,   461,    11,  2740,    13,   198]])\n"
     ]
    }
   ],
   "source": [
    "import torch\n",
    "buf = torch.tensor(tokens[:24 + 1])\n",
    "x = buf[:-1].view(4, 6)\n",
    "y = buf[1:].view(4, 6)\n",
    "print(x)\n",
    "print(y)"
   ]
  },
  {
   "cell_type": "code",
   "execution_count": 58,
   "metadata": {},
   "outputs": [
    {
     "name": "stdout",
     "output_type": "stream",
     "text": [
      ".\n",
      "\n",
      "CORIOLANUS:\n",
      "No, I'll die here.\n",
      "There's some among you have beheld me fighting:\n",
      "Come, try upon yourselves what you have seen me.\n",
      "\n",
      "MENENIUS:\n",
      "Down with that sword! Tribunes, withdraw awhile.\n",
      "\n",
      "BRUTUS:\n",
      "Lay hands upon him.\n",
      "\n",
      "COMINIUS:\n",
      "Help Marcius, help,\n",
      "You that be noble; help him, young and old!\n",
      "\n",
      "Citizens:\n",
      "Down with him, down with him!\n",
      "\n",
      "MENENIUS:\n",
      "Go, get you to your house; be gone, away!\n",
      "All will be naught else.\n",
      "\n",
      "Second Senator:\n",
      "Get you gone.\n",
      "\n",
      "COMINIUS:\n",
      "Stand fast;\n",
      "We have as many friends as enemies.\n",
      "\n",
      "MENENIUS:\n",
      "Sham it be put to that?\n",
      "\n",
      "First Senator:\n",
      "The gods forbid!\n",
      "I prithee, noble friend, home to thy house;\n",
      "Leave us to cure this cause.\n",
      "\n",
      "MENENIUS:\n",
      "For 'tis a sore upon us,\n",
      "You cannot tent yourself: be gone, beseech you.\n",
      "\n",
      "COMINIUS:\n",
      "Come, sir, along with us.\n",
      "\n",
      "CORIOLANUS:\n",
      "I would they were barbarians--as they are,\n",
      "Though in Rome litter'd--not Romans--as they are not,\n",
      "Though calved i' the porch o' the Capitol--\n",
      "\n",
      "MENENIUS:\n",
      "Be gone;\n",
      "Put not your worthy rage into your tongue;\n",
      "One time will owe another.\n",
      "\n",
      "CORIOLANUS:\n",
      "On fair ground\n",
      "I could beat forty of them.\n",
      "\n",
      "COMINIUS:\n",
      "I could myself\n",
      "Take up a brace o' the best of them; yea, the\n",
      "two tribunes:\n",
      "But now 'tis odds beyond arithmetic;\n",
      "And manhood is call'd foolery, when it stands\n",
      "Against a falling fabric. Will you hence,\n",
      "Before the tag return? whose rage doth rend\n",
      "Like interrupted waters and o'erbear\n",
      "What they are used to bear.\n",
      "\n",
      "MENENIUS:\n",
      "Pray you, be gone:\n",
      "I'll try whether my old wit be in request\n",
      "With those that have but little: this must be patch'd\n",
      "With cloth of any colour.\n",
      "\n",
      "COMINIUS:\n",
      "Nay, come away.\n",
      "\n",
      "A Patrician:\n",
      "This man has marr'd his fortune.\n",
      "\n",
      "MENENIUS:\n",
      "His nature is too noble for the world:\n",
      "He would not flatter Neptune for his trident,\n",
      "Or Jove for's power to thunder. His heart's his mouth:\n",
      "What his breast forges, that his tongue must vent;\n",
      "And, being angry, does forget that ever\n",
      "He heard the name of death.\n",
      "Here's goodly work!\n",
      "\n",
      "Second Patrician:\n",
      "I would they were abed!\n",
      "\n",
      "MENENIUS:\n",
      "I would they were in Tiber! What the vengeance!\n",
      "Could he not speak 'em fair?\n",
      "\n",
      "SICINIUS:\n",
      "Where is this viper\n",
      "That would depopulate the city and\n",
      "Be every man himself?\n",
      "\n",
      "MENENIUS:\n",
      "You worthy tribunes,--\n",
      "\n",
      "SICINIUS:\n",
      "He shall be thrown down the Tarpeian rock\n",
      "With rigorous hands: he hath resisted law,\n",
      "And therefore law shall scorn him further trial\n",
      "Than the severity of the public power\n",
      "Which he so sets at nought.\n",
      "\n",
      "First Citizen:\n",
      "He shall well know\n",
      "The noble tribunes are the people's mouths,\n",
      "And we their hands.\n",
      "\n",
      "Citizens:\n",
      "He shall, sure on't.\n",
      "\n",
      "MENENIUS:\n",
      "Sir, sir,--\n",
      "\n",
      "SICINIUS:\n",
      "Peace!\n",
      "\n",
      "MENENIUS:\n",
      "Do not cry havoc, where you should but hunt\n",
      "With modest warrant.\n",
      "\n",
      "SICINIUS:\n",
      "Sir, how comes't that you\n",
      "Have holp to make this rescue?\n",
      "\n",
      "MENENIUS:\n",
      "Hear me speak:\n",
      "As I do know the consul's worthiness,\n",
      "So can I name his faults,--\n",
      "\n",
      "SICINIUS:\n",
      "Consul! what consul?\n",
      "\n",
      "MENENIUS:\n",
      "The consul Coriolanus.\n",
      "\n",
      "BRUTUS:\n",
      "He consul!\n",
      "\n",
      "Citizens:\n",
      "No, no, no, no, no.\n",
      "\n",
      "MENENIUS:\n",
      "If, by the tribunes' leave, and yours, good people,\n",
      "I may be heard, I would crave a word or two;\n",
      "The which shall turn you to no further harm\n",
      "Than so much loss of time.\n",
      "\n",
      "SICINIUS:\n",
      "Spe\n"
     ]
    }
   ],
   "source": [
    "print(enc.decode(tokens[1024*23:1024*23 + 1024 + 1]))"
   ]
  },
  {
   "cell_type": "code",
   "execution_count": 59,
   "metadata": {},
   "outputs": [
    {
     "name": "stdout",
     "output_type": "stream",
     "text": [
      "torch.Size([50257, 768])\n",
      "torch.Size([50257, 768])\n"
     ]
    }
   ],
   "source": [
    "print(sd_hf[\"lm_head.weight\"].shape)\n",
    "print(sd_hf[\"transformer.wte.weight\"].shape)"
   ]
  },
  {
   "cell_type": "code",
   "execution_count": 60,
   "metadata": {},
   "outputs": [
    {
     "data": {
      "text/plain": [
       "tensor(True)"
      ]
     },
     "execution_count": 60,
     "metadata": {},
     "output_type": "execute_result"
    }
   ],
   "source": [
    "(sd_hf[\"lm_head.weight\"] == sd_hf[\"transformer.wte.weight\"]).all()"
   ]
  },
  {
   "cell_type": "code",
   "execution_count": 61,
   "metadata": {},
   "outputs": [
    {
     "name": "stdout",
     "output_type": "stream",
     "text": [
      "2551080550656\n",
      "2551080550656\n"
     ]
    }
   ],
   "source": [
    "print(sd_hf[\"lm_head.weight\"].data_ptr())\n",
    "print(sd_hf[\"transformer.wte.weight\"].data_ptr())"
   ]
  },
  {
   "cell_type": "markdown",
   "metadata": {},
   "source": [
    "### Std dev grows indide the residual stream"
   ]
  },
  {
   "cell_type": "code",
   "execution_count": 62,
   "metadata": {},
   "outputs": [
    {
     "name": "stdout",
     "output_type": "stream",
     "text": [
      "tensor(9.8504)\n"
     ]
    }
   ],
   "source": [
    "x = torch.zeros(768)\n",
    "n = 100 # 100 layers\n",
    "for i in range(n):\n",
    "    x += torch.randn(768)\n",
    "\n",
    "print(x.std())"
   ]
  },
  {
   "cell_type": "code",
   "execution_count": 63,
   "metadata": {},
   "outputs": [
    {
     "name": "stdout",
     "output_type": "stream",
     "text": [
      "tensor(1.0324)\n"
     ]
    }
   ],
   "source": [
    "x = torch.zeros(768)\n",
    "n = 100 # 100 layers\n",
    "for i in range(n):\n",
    "    x += n**-0.5 * torch.randn(768)\n",
    "\n",
    "print(x.std())"
   ]
  },
  {
   "cell_type": "markdown",
   "metadata": {},
   "source": [
    "### LR Scheduler with Cosine decay"
   ]
  },
  {
   "cell_type": "code",
   "execution_count": 66,
   "metadata": {},
   "outputs": [],
   "source": [
    "import math\n",
    "\n",
    "max_lr = 6e-4\n",
    "min_lr = max_lr * 0.1\n",
    "warmup_steps = 10\n",
    "max_steps = 50\n",
    "\n",
    "def get_lr(it):\n",
    "    # 1) linear warmup for warmup_steps\n",
    "    if it < warmup_steps:\n",
    "        return max_lr * (it + 1) / warmup_steps\n",
    "    # 2) flat tail after max_steps\n",
    "    if it > max_steps:\n",
    "        return min_lr\n",
    "    # 3) in between, cosine decay till min_lr\n",
    "    decay_ratio = (it - warmup_steps) / (max_steps - warmup_steps)\n",
    "    assert 0 <= decay_ratio <= 1\n",
    "    coeff = 0.5 * (\n",
    "        1.0 + math.cos(math.pi * decay_ratio)\n",
    "    )  # coeff starts at 1 and goes to 0\n",
    "    # this makes a sharp corner (discontinuity)\n",
    "    # coeff = math.cos(math.pi * decay_ratio / 2)\n",
    "    # print(f\"{decay_ratio:.3f} |  {math.cos(math.pi * decay_ratio):.3f} | {math.cos(math.pi * decay_ratio / 2):.3f} | {coeff:.3f}\")\n",
    "    return min_lr + coeff * (max_lr - min_lr)"
   ]
  },
  {
   "cell_type": "code",
   "execution_count": 67,
   "metadata": {},
   "outputs": [
    {
     "data": {
      "application/vnd.plotly.v1+json": {
       "config": {
        "plotlyServerURL": "https://plot.ly"
       },
       "data": [
        {
         "hovertemplate": "x=%{x}<br>y=%{y}<extra></extra>",
         "legendgroup": "",
         "line": {
          "color": "#636efa",
          "dash": "solid"
         },
         "marker": {
          "symbol": "circle"
         },
         "mode": "lines",
         "name": "",
         "orientation": "h",
         "showlegend": false,
         "type": "scatter",
         "x": [
          0,
          1,
          2,
          3,
          4,
          5,
          6,
          7,
          8,
          9,
          10,
          11,
          12,
          13,
          14,
          15,
          16,
          17,
          18,
          19,
          20,
          21,
          22,
          23,
          24,
          25,
          26,
          27,
          28,
          29,
          30,
          31,
          32,
          33,
          34,
          35,
          36,
          37,
          38,
          39,
          40,
          41,
          42,
          43,
          44,
          45,
          46,
          47,
          48,
          49,
          50,
          51,
          52,
          53,
          54,
          55,
          56,
          57,
          58,
          59,
          60,
          61,
          62,
          63,
          64,
          65,
          66,
          67,
          68,
          69,
          70,
          71,
          72,
          73,
          74,
          75,
          76,
          77,
          78,
          79,
          80,
          81,
          82,
          83,
          84,
          85,
          86,
          87,
          88,
          89,
          90,
          91,
          92,
          93,
          94,
          95,
          96,
          97,
          98,
          99
         ],
         "xaxis": "x",
         "y": [
          0.00006000000212225132,
          0.00012000000424450263,
          0.00018000000272877514,
          0.00024000000848900527,
          0.0003000000142492354,
          0.0003600000054575503,
          0.00042000002576969564,
          0.00048000001697801054,
          0.0005400000372901559,
          0.0006000000284984708,
          0.0005999999999999998,
          0.0005991676800616455,
          0.0005966758517760619,
          0.0005925398771548776,
          0.0005867852586702829,
          0.0005794474726489327,
          0.0005705717562703577,
          0.0005602128464216572,
          0.0005484345857064013,
          0.0005353096124886988,
          0.0005209188267477039,
          0.0005053509619945434,
          0.0004887019993704033,
          0.00047107462651503786,
          0.0004525774419078636,
          0.0004333245259949163,
          0.0004134345795016832,
          0.0003930302306622106,
          0.00037223731096488674,
          0.00035118395269093127,
          0.0003299999881979247,
          0.00030881605586496967,
          0.000287762665721569,
          0.0002669697463858231,
          0.0002465653674382483,
          0.00022667545219769232,
          0.00020742259441746248,
          0.0001889253533591165,
          0.00017129799455315332,
          0.00015464898334450404,
          0.00013908116794129004,
          0.00012469038263336412,
          0.00011156540041942743,
          0.000099787141245209,
          0.00008942822205430726,
          0.00008055250908022072,
          0.00007321474398181145,
          0.00006746010700338679,
          0.00006332414704897494,
          0.00006083231871772564,
          0.00006000000000000101,
          0.000059999999999999995,
          0.000059999999999999995,
          0.000059999999999999995,
          0.000059999999999999995,
          0.000059999999999999995,
          0.000059999999999999995,
          0.000059999999999999995,
          0.000059999999999999995,
          0.000059999999999999995,
          0.000059999999999999995,
          0.000059999999999999995,
          0.000059999999999999995,
          0.000059999999999999995,
          0.000059999999999999995,
          0.000059999999999999995,
          0.000059999999999999995,
          0.000059999999999999995,
          0.000059999999999999995,
          0.000059999999999999995,
          0.000059999999999999995,
          0.000059999999999999995,
          0.000059999999999999995,
          0.000059999999999999995,
          0.000059999999999999995,
          0.000059999999999999995,
          0.000059999999999999995,
          0.000059999999999999995,
          0.000059999999999999995,
          0.000059999999999999995,
          0.000059999999999999995,
          0.000059999999999999995,
          0.000059999999999999995,
          0.000059999999999999995,
          0.000059999999999999995,
          0.000059999999999999995,
          0.000059999999999999995,
          0.000059999999999999995,
          0.000059999999999999995,
          0.000059999999999999995,
          0.000059999999999999995,
          0.000059999999999999995,
          0.000059999999999999995,
          0.000059999999999999995,
          0.000059999999999999995,
          0.000059999999999999995,
          0.000059999999999999995,
          0.000059999999999999995,
          0.000059999999999999995,
          0.000059999999999999995
         ],
         "yaxis": "y"
        }
       ],
       "layout": {
        "legend": {
         "tracegroupgap": 0
        },
        "margin": {
         "t": 60
        },
        "template": {
         "data": {
          "bar": [
           {
            "error_x": {
             "color": "#2a3f5f"
            },
            "error_y": {
             "color": "#2a3f5f"
            },
            "marker": {
             "line": {
              "color": "#E5ECF6",
              "width": 0.5
             },
             "pattern": {
              "fillmode": "overlay",
              "size": 10,
              "solidity": 0.2
             }
            },
            "type": "bar"
           }
          ],
          "barpolar": [
           {
            "marker": {
             "line": {
              "color": "#E5ECF6",
              "width": 0.5
             },
             "pattern": {
              "fillmode": "overlay",
              "size": 10,
              "solidity": 0.2
             }
            },
            "type": "barpolar"
           }
          ],
          "carpet": [
           {
            "aaxis": {
             "endlinecolor": "#2a3f5f",
             "gridcolor": "white",
             "linecolor": "white",
             "minorgridcolor": "white",
             "startlinecolor": "#2a3f5f"
            },
            "baxis": {
             "endlinecolor": "#2a3f5f",
             "gridcolor": "white",
             "linecolor": "white",
             "minorgridcolor": "white",
             "startlinecolor": "#2a3f5f"
            },
            "type": "carpet"
           }
          ],
          "choropleth": [
           {
            "colorbar": {
             "outlinewidth": 0,
             "ticks": ""
            },
            "type": "choropleth"
           }
          ],
          "contour": [
           {
            "colorbar": {
             "outlinewidth": 0,
             "ticks": ""
            },
            "colorscale": [
             [
              0,
              "#0d0887"
             ],
             [
              0.1111111111111111,
              "#46039f"
             ],
             [
              0.2222222222222222,
              "#7201a8"
             ],
             [
              0.3333333333333333,
              "#9c179e"
             ],
             [
              0.4444444444444444,
              "#bd3786"
             ],
             [
              0.5555555555555556,
              "#d8576b"
             ],
             [
              0.6666666666666666,
              "#ed7953"
             ],
             [
              0.7777777777777778,
              "#fb9f3a"
             ],
             [
              0.8888888888888888,
              "#fdca26"
             ],
             [
              1,
              "#f0f921"
             ]
            ],
            "type": "contour"
           }
          ],
          "contourcarpet": [
           {
            "colorbar": {
             "outlinewidth": 0,
             "ticks": ""
            },
            "type": "contourcarpet"
           }
          ],
          "heatmap": [
           {
            "colorbar": {
             "outlinewidth": 0,
             "ticks": ""
            },
            "colorscale": [
             [
              0,
              "#0d0887"
             ],
             [
              0.1111111111111111,
              "#46039f"
             ],
             [
              0.2222222222222222,
              "#7201a8"
             ],
             [
              0.3333333333333333,
              "#9c179e"
             ],
             [
              0.4444444444444444,
              "#bd3786"
             ],
             [
              0.5555555555555556,
              "#d8576b"
             ],
             [
              0.6666666666666666,
              "#ed7953"
             ],
             [
              0.7777777777777778,
              "#fb9f3a"
             ],
             [
              0.8888888888888888,
              "#fdca26"
             ],
             [
              1,
              "#f0f921"
             ]
            ],
            "type": "heatmap"
           }
          ],
          "heatmapgl": [
           {
            "colorbar": {
             "outlinewidth": 0,
             "ticks": ""
            },
            "colorscale": [
             [
              0,
              "#0d0887"
             ],
             [
              0.1111111111111111,
              "#46039f"
             ],
             [
              0.2222222222222222,
              "#7201a8"
             ],
             [
              0.3333333333333333,
              "#9c179e"
             ],
             [
              0.4444444444444444,
              "#bd3786"
             ],
             [
              0.5555555555555556,
              "#d8576b"
             ],
             [
              0.6666666666666666,
              "#ed7953"
             ],
             [
              0.7777777777777778,
              "#fb9f3a"
             ],
             [
              0.8888888888888888,
              "#fdca26"
             ],
             [
              1,
              "#f0f921"
             ]
            ],
            "type": "heatmapgl"
           }
          ],
          "histogram": [
           {
            "marker": {
             "pattern": {
              "fillmode": "overlay",
              "size": 10,
              "solidity": 0.2
             }
            },
            "type": "histogram"
           }
          ],
          "histogram2d": [
           {
            "colorbar": {
             "outlinewidth": 0,
             "ticks": ""
            },
            "colorscale": [
             [
              0,
              "#0d0887"
             ],
             [
              0.1111111111111111,
              "#46039f"
             ],
             [
              0.2222222222222222,
              "#7201a8"
             ],
             [
              0.3333333333333333,
              "#9c179e"
             ],
             [
              0.4444444444444444,
              "#bd3786"
             ],
             [
              0.5555555555555556,
              "#d8576b"
             ],
             [
              0.6666666666666666,
              "#ed7953"
             ],
             [
              0.7777777777777778,
              "#fb9f3a"
             ],
             [
              0.8888888888888888,
              "#fdca26"
             ],
             [
              1,
              "#f0f921"
             ]
            ],
            "type": "histogram2d"
           }
          ],
          "histogram2dcontour": [
           {
            "colorbar": {
             "outlinewidth": 0,
             "ticks": ""
            },
            "colorscale": [
             [
              0,
              "#0d0887"
             ],
             [
              0.1111111111111111,
              "#46039f"
             ],
             [
              0.2222222222222222,
              "#7201a8"
             ],
             [
              0.3333333333333333,
              "#9c179e"
             ],
             [
              0.4444444444444444,
              "#bd3786"
             ],
             [
              0.5555555555555556,
              "#d8576b"
             ],
             [
              0.6666666666666666,
              "#ed7953"
             ],
             [
              0.7777777777777778,
              "#fb9f3a"
             ],
             [
              0.8888888888888888,
              "#fdca26"
             ],
             [
              1,
              "#f0f921"
             ]
            ],
            "type": "histogram2dcontour"
           }
          ],
          "mesh3d": [
           {
            "colorbar": {
             "outlinewidth": 0,
             "ticks": ""
            },
            "type": "mesh3d"
           }
          ],
          "parcoords": [
           {
            "line": {
             "colorbar": {
              "outlinewidth": 0,
              "ticks": ""
             }
            },
            "type": "parcoords"
           }
          ],
          "pie": [
           {
            "automargin": true,
            "type": "pie"
           }
          ],
          "scatter": [
           {
            "fillpattern": {
             "fillmode": "overlay",
             "size": 10,
             "solidity": 0.2
            },
            "type": "scatter"
           }
          ],
          "scatter3d": [
           {
            "line": {
             "colorbar": {
              "outlinewidth": 0,
              "ticks": ""
             }
            },
            "marker": {
             "colorbar": {
              "outlinewidth": 0,
              "ticks": ""
             }
            },
            "type": "scatter3d"
           }
          ],
          "scattercarpet": [
           {
            "marker": {
             "colorbar": {
              "outlinewidth": 0,
              "ticks": ""
             }
            },
            "type": "scattercarpet"
           }
          ],
          "scattergeo": [
           {
            "marker": {
             "colorbar": {
              "outlinewidth": 0,
              "ticks": ""
             }
            },
            "type": "scattergeo"
           }
          ],
          "scattergl": [
           {
            "marker": {
             "colorbar": {
              "outlinewidth": 0,
              "ticks": ""
             }
            },
            "type": "scattergl"
           }
          ],
          "scattermapbox": [
           {
            "marker": {
             "colorbar": {
              "outlinewidth": 0,
              "ticks": ""
             }
            },
            "type": "scattermapbox"
           }
          ],
          "scatterpolar": [
           {
            "marker": {
             "colorbar": {
              "outlinewidth": 0,
              "ticks": ""
             }
            },
            "type": "scatterpolar"
           }
          ],
          "scatterpolargl": [
           {
            "marker": {
             "colorbar": {
              "outlinewidth": 0,
              "ticks": ""
             }
            },
            "type": "scatterpolargl"
           }
          ],
          "scatterternary": [
           {
            "marker": {
             "colorbar": {
              "outlinewidth": 0,
              "ticks": ""
             }
            },
            "type": "scatterternary"
           }
          ],
          "surface": [
           {
            "colorbar": {
             "outlinewidth": 0,
             "ticks": ""
            },
            "colorscale": [
             [
              0,
              "#0d0887"
             ],
             [
              0.1111111111111111,
              "#46039f"
             ],
             [
              0.2222222222222222,
              "#7201a8"
             ],
             [
              0.3333333333333333,
              "#9c179e"
             ],
             [
              0.4444444444444444,
              "#bd3786"
             ],
             [
              0.5555555555555556,
              "#d8576b"
             ],
             [
              0.6666666666666666,
              "#ed7953"
             ],
             [
              0.7777777777777778,
              "#fb9f3a"
             ],
             [
              0.8888888888888888,
              "#fdca26"
             ],
             [
              1,
              "#f0f921"
             ]
            ],
            "type": "surface"
           }
          ],
          "table": [
           {
            "cells": {
             "fill": {
              "color": "#EBF0F8"
             },
             "line": {
              "color": "white"
             }
            },
            "header": {
             "fill": {
              "color": "#C8D4E3"
             },
             "line": {
              "color": "white"
             }
            },
            "type": "table"
           }
          ]
         },
         "layout": {
          "annotationdefaults": {
           "arrowcolor": "#2a3f5f",
           "arrowhead": 0,
           "arrowwidth": 1
          },
          "autotypenumbers": "strict",
          "coloraxis": {
           "colorbar": {
            "outlinewidth": 0,
            "ticks": ""
           }
          },
          "colorscale": {
           "diverging": [
            [
             0,
             "#8e0152"
            ],
            [
             0.1,
             "#c51b7d"
            ],
            [
             0.2,
             "#de77ae"
            ],
            [
             0.3,
             "#f1b6da"
            ],
            [
             0.4,
             "#fde0ef"
            ],
            [
             0.5,
             "#f7f7f7"
            ],
            [
             0.6,
             "#e6f5d0"
            ],
            [
             0.7,
             "#b8e186"
            ],
            [
             0.8,
             "#7fbc41"
            ],
            [
             0.9,
             "#4d9221"
            ],
            [
             1,
             "#276419"
            ]
           ],
           "sequential": [
            [
             0,
             "#0d0887"
            ],
            [
             0.1111111111111111,
             "#46039f"
            ],
            [
             0.2222222222222222,
             "#7201a8"
            ],
            [
             0.3333333333333333,
             "#9c179e"
            ],
            [
             0.4444444444444444,
             "#bd3786"
            ],
            [
             0.5555555555555556,
             "#d8576b"
            ],
            [
             0.6666666666666666,
             "#ed7953"
            ],
            [
             0.7777777777777778,
             "#fb9f3a"
            ],
            [
             0.8888888888888888,
             "#fdca26"
            ],
            [
             1,
             "#f0f921"
            ]
           ],
           "sequentialminus": [
            [
             0,
             "#0d0887"
            ],
            [
             0.1111111111111111,
             "#46039f"
            ],
            [
             0.2222222222222222,
             "#7201a8"
            ],
            [
             0.3333333333333333,
             "#9c179e"
            ],
            [
             0.4444444444444444,
             "#bd3786"
            ],
            [
             0.5555555555555556,
             "#d8576b"
            ],
            [
             0.6666666666666666,
             "#ed7953"
            ],
            [
             0.7777777777777778,
             "#fb9f3a"
            ],
            [
             0.8888888888888888,
             "#fdca26"
            ],
            [
             1,
             "#f0f921"
            ]
           ]
          },
          "colorway": [
           "#636efa",
           "#EF553B",
           "#00cc96",
           "#ab63fa",
           "#FFA15A",
           "#19d3f3",
           "#FF6692",
           "#B6E880",
           "#FF97FF",
           "#FECB52"
          ],
          "font": {
           "color": "#2a3f5f"
          },
          "geo": {
           "bgcolor": "white",
           "lakecolor": "white",
           "landcolor": "#E5ECF6",
           "showlakes": true,
           "showland": true,
           "subunitcolor": "white"
          },
          "hoverlabel": {
           "align": "left"
          },
          "hovermode": "closest",
          "mapbox": {
           "style": "light"
          },
          "paper_bgcolor": "white",
          "plot_bgcolor": "#E5ECF6",
          "polar": {
           "angularaxis": {
            "gridcolor": "white",
            "linecolor": "white",
            "ticks": ""
           },
           "bgcolor": "#E5ECF6",
           "radialaxis": {
            "gridcolor": "white",
            "linecolor": "white",
            "ticks": ""
           }
          },
          "scene": {
           "xaxis": {
            "backgroundcolor": "#E5ECF6",
            "gridcolor": "white",
            "gridwidth": 2,
            "linecolor": "white",
            "showbackground": true,
            "ticks": "",
            "zerolinecolor": "white"
           },
           "yaxis": {
            "backgroundcolor": "#E5ECF6",
            "gridcolor": "white",
            "gridwidth": 2,
            "linecolor": "white",
            "showbackground": true,
            "ticks": "",
            "zerolinecolor": "white"
           },
           "zaxis": {
            "backgroundcolor": "#E5ECF6",
            "gridcolor": "white",
            "gridwidth": 2,
            "linecolor": "white",
            "showbackground": true,
            "ticks": "",
            "zerolinecolor": "white"
           }
          },
          "shapedefaults": {
           "line": {
            "color": "#2a3f5f"
           }
          },
          "ternary": {
           "aaxis": {
            "gridcolor": "white",
            "linecolor": "white",
            "ticks": ""
           },
           "baxis": {
            "gridcolor": "white",
            "linecolor": "white",
            "ticks": ""
           },
           "bgcolor": "#E5ECF6",
           "caxis": {
            "gridcolor": "white",
            "linecolor": "white",
            "ticks": ""
           }
          },
          "title": {
           "x": 0.05
          },
          "xaxis": {
           "automargin": true,
           "gridcolor": "white",
           "linecolor": "white",
           "ticks": "",
           "title": {
            "standoff": 15
           },
           "zerolinecolor": "white",
           "zerolinewidth": 2
          },
          "yaxis": {
           "automargin": true,
           "gridcolor": "white",
           "linecolor": "white",
           "ticks": "",
           "title": {
            "standoff": 15
           },
           "zerolinecolor": "white",
           "zerolinewidth": 2
          }
         }
        },
        "xaxis": {
         "anchor": "y",
         "domain": [
          0,
          1
         ],
         "title": {
          "text": "x"
         }
        },
        "yaxis": {
         "anchor": "x",
         "domain": [
          0,
          1
         ],
         "title": {
          "text": "y"
         }
        }
       }
      }
     },
     "metadata": {},
     "output_type": "display_data"
    }
   ],
   "source": [
    "x = torch.arange(0, 100)\n",
    "y = [get_lr(i) for i in x]\n",
    "px.line(x=x, y=y)"
   ]
  },
  {
   "cell_type": "code",
   "execution_count": 68,
   "metadata": {},
   "outputs": [
    {
     "data": {
      "application/vnd.plotly.v1+json": {
       "config": {
        "plotlyServerURL": "https://plot.ly"
       },
       "data": [
        {
         "hovertemplate": "x=%{x}<br>y=%{y}<extra></extra>",
         "legendgroup": "",
         "line": {
          "color": "#636efa",
          "dash": "solid"
         },
         "marker": {
          "symbol": "circle"
         },
         "mode": "lines",
         "name": "",
         "orientation": "v",
         "showlegend": false,
         "type": "scatter",
         "x": [
          0,
          1,
          2,
          3,
          4,
          5,
          6,
          7,
          8,
          9,
          10,
          11,
          12,
          13,
          14,
          15,
          16,
          17,
          18,
          19,
          20,
          21,
          22,
          23,
          24,
          25,
          26,
          27,
          28,
          29,
          30,
          31,
          32,
          33,
          34,
          35,
          36,
          37,
          38,
          39,
          40,
          41,
          42,
          43,
          44,
          45,
          46,
          47,
          48,
          49,
          50,
          51,
          52,
          53,
          54,
          55,
          56,
          57,
          58,
          59,
          60,
          61,
          62,
          63,
          64,
          65,
          66,
          67,
          68,
          69,
          70,
          71,
          72,
          73,
          74,
          75,
          76,
          77,
          78,
          79,
          80,
          81,
          82,
          83,
          84,
          85,
          86,
          87,
          88,
          89,
          90,
          91,
          92,
          93,
          94,
          95,
          96,
          97,
          98,
          99
         ],
         "xaxis": "x",
         "y": [
          0.7071067657322372,
          0.7604059721803664,
          0.8090169840977831,
          0.8526401407887222,
          0.8910065182350011,
          0.9238795283293805,
          0.9510565135936411,
          0.9723699188670434,
          0.987688339911341,
          0.9969173335616501,
          1,
          0.9969173335616501,
          0.987688339911341,
          0.9723699188670434,
          0.9510565135936411,
          0.9238795283293805,
          0.8910065182350011,
          0.8526401407887222,
          0.8090169840977831,
          0.7604059721803664,
          0.7071067657322372,
          0.649448007387198,
          0.5877852310745185,
          0.5224985150797345,
          0.453990419368424,
          0.38268342961080154,
          0.3090169611173454,
          0.23344529874892836,
          0.1564344850551363,
          0.07845908404048646,
          -4.371139000186241e-8,
          -0.078459171193771,
          -0.15643457140159595,
          -0.23344538375621046,
          -0.30901704426134974,
          -0.3826835103789173,
          -0.4539906034789449,
          -0.5224986912625315,
          -0.587785398243365,
          -0.6494480285402747,
          -0.7071067854026294,
          -0.7604059902467996,
          -0.809017035483602,
          -0.852640217610337,
          -0.8910065849840472,
          -0.9238795959991825,
          -0.9510565037710687,
          -0.9723699184038441,
          -0.9876883442630557,
          -0.9969173380824976,
          -0.9999999999999962,
          -0.9969173430703737,
          -0.9876883169111731,
          -0.9723699332446692,
          -0.951056449740798,
          -0.9238795290886961,
          -0.8910065056058313,
          -0.852640126253785,
          -0.8090169327119581,
          -0.7604058766936852,
          -0.7071066617681382,
          -0.6494478955866549,
          -0.5877850639056469,
          -0.5224987454674349,
          -0.4539902352578838,
          -0.3826835691127256,
          -0.30901665122377764,
          -0.2334454455727012,
          -0.156434516450301,
          -0.0784591157290088,
          1.1924880454806035e-8,
          0.07845913950524878,
          0.15643454000643153,
          0.2334454687634908,
          0.30901712740535175,
          0.3826835911470301,
          0.45399068137320586,
          0.5224987658026962,
          0.5877854689698682,
          0.6494482763119591,
          0.7071070158072251,
          0.7604062018637845,
          0.8090169467304975,
          0.8526403878619059,
          0.8910065164333968,
          0.9238797206931731,
          0.9510565307861931,
          0.9723699388122837,
          0.9876883579389858,
          0.9969173449416012,
          0.9999999999999847,
          0.996917317505141,
          0.9876883778289863,
          0.9723698571784803,
          0.9510564227256517,
          0.9238795868722774,
          0.8910065741564849,
          0.8526399560020771,
          0.809016741187142,
          0.7604059747576193
         ],
         "yaxis": "y"
        }
       ],
       "layout": {
        "legend": {
         "tracegroupgap": 0
        },
        "margin": {
         "t": 60
        },
        "template": {
         "data": {
          "bar": [
           {
            "error_x": {
             "color": "#2a3f5f"
            },
            "error_y": {
             "color": "#2a3f5f"
            },
            "marker": {
             "line": {
              "color": "#E5ECF6",
              "width": 0.5
             },
             "pattern": {
              "fillmode": "overlay",
              "size": 10,
              "solidity": 0.2
             }
            },
            "type": "bar"
           }
          ],
          "barpolar": [
           {
            "marker": {
             "line": {
              "color": "#E5ECF6",
              "width": 0.5
             },
             "pattern": {
              "fillmode": "overlay",
              "size": 10,
              "solidity": 0.2
             }
            },
            "type": "barpolar"
           }
          ],
          "carpet": [
           {
            "aaxis": {
             "endlinecolor": "#2a3f5f",
             "gridcolor": "white",
             "linecolor": "white",
             "minorgridcolor": "white",
             "startlinecolor": "#2a3f5f"
            },
            "baxis": {
             "endlinecolor": "#2a3f5f",
             "gridcolor": "white",
             "linecolor": "white",
             "minorgridcolor": "white",
             "startlinecolor": "#2a3f5f"
            },
            "type": "carpet"
           }
          ],
          "choropleth": [
           {
            "colorbar": {
             "outlinewidth": 0,
             "ticks": ""
            },
            "type": "choropleth"
           }
          ],
          "contour": [
           {
            "colorbar": {
             "outlinewidth": 0,
             "ticks": ""
            },
            "colorscale": [
             [
              0,
              "#0d0887"
             ],
             [
              0.1111111111111111,
              "#46039f"
             ],
             [
              0.2222222222222222,
              "#7201a8"
             ],
             [
              0.3333333333333333,
              "#9c179e"
             ],
             [
              0.4444444444444444,
              "#bd3786"
             ],
             [
              0.5555555555555556,
              "#d8576b"
             ],
             [
              0.6666666666666666,
              "#ed7953"
             ],
             [
              0.7777777777777778,
              "#fb9f3a"
             ],
             [
              0.8888888888888888,
              "#fdca26"
             ],
             [
              1,
              "#f0f921"
             ]
            ],
            "type": "contour"
           }
          ],
          "contourcarpet": [
           {
            "colorbar": {
             "outlinewidth": 0,
             "ticks": ""
            },
            "type": "contourcarpet"
           }
          ],
          "heatmap": [
           {
            "colorbar": {
             "outlinewidth": 0,
             "ticks": ""
            },
            "colorscale": [
             [
              0,
              "#0d0887"
             ],
             [
              0.1111111111111111,
              "#46039f"
             ],
             [
              0.2222222222222222,
              "#7201a8"
             ],
             [
              0.3333333333333333,
              "#9c179e"
             ],
             [
              0.4444444444444444,
              "#bd3786"
             ],
             [
              0.5555555555555556,
              "#d8576b"
             ],
             [
              0.6666666666666666,
              "#ed7953"
             ],
             [
              0.7777777777777778,
              "#fb9f3a"
             ],
             [
              0.8888888888888888,
              "#fdca26"
             ],
             [
              1,
              "#f0f921"
             ]
            ],
            "type": "heatmap"
           }
          ],
          "heatmapgl": [
           {
            "colorbar": {
             "outlinewidth": 0,
             "ticks": ""
            },
            "colorscale": [
             [
              0,
              "#0d0887"
             ],
             [
              0.1111111111111111,
              "#46039f"
             ],
             [
              0.2222222222222222,
              "#7201a8"
             ],
             [
              0.3333333333333333,
              "#9c179e"
             ],
             [
              0.4444444444444444,
              "#bd3786"
             ],
             [
              0.5555555555555556,
              "#d8576b"
             ],
             [
              0.6666666666666666,
              "#ed7953"
             ],
             [
              0.7777777777777778,
              "#fb9f3a"
             ],
             [
              0.8888888888888888,
              "#fdca26"
             ],
             [
              1,
              "#f0f921"
             ]
            ],
            "type": "heatmapgl"
           }
          ],
          "histogram": [
           {
            "marker": {
             "pattern": {
              "fillmode": "overlay",
              "size": 10,
              "solidity": 0.2
             }
            },
            "type": "histogram"
           }
          ],
          "histogram2d": [
           {
            "colorbar": {
             "outlinewidth": 0,
             "ticks": ""
            },
            "colorscale": [
             [
              0,
              "#0d0887"
             ],
             [
              0.1111111111111111,
              "#46039f"
             ],
             [
              0.2222222222222222,
              "#7201a8"
             ],
             [
              0.3333333333333333,
              "#9c179e"
             ],
             [
              0.4444444444444444,
              "#bd3786"
             ],
             [
              0.5555555555555556,
              "#d8576b"
             ],
             [
              0.6666666666666666,
              "#ed7953"
             ],
             [
              0.7777777777777778,
              "#fb9f3a"
             ],
             [
              0.8888888888888888,
              "#fdca26"
             ],
             [
              1,
              "#f0f921"
             ]
            ],
            "type": "histogram2d"
           }
          ],
          "histogram2dcontour": [
           {
            "colorbar": {
             "outlinewidth": 0,
             "ticks": ""
            },
            "colorscale": [
             [
              0,
              "#0d0887"
             ],
             [
              0.1111111111111111,
              "#46039f"
             ],
             [
              0.2222222222222222,
              "#7201a8"
             ],
             [
              0.3333333333333333,
              "#9c179e"
             ],
             [
              0.4444444444444444,
              "#bd3786"
             ],
             [
              0.5555555555555556,
              "#d8576b"
             ],
             [
              0.6666666666666666,
              "#ed7953"
             ],
             [
              0.7777777777777778,
              "#fb9f3a"
             ],
             [
              0.8888888888888888,
              "#fdca26"
             ],
             [
              1,
              "#f0f921"
             ]
            ],
            "type": "histogram2dcontour"
           }
          ],
          "mesh3d": [
           {
            "colorbar": {
             "outlinewidth": 0,
             "ticks": ""
            },
            "type": "mesh3d"
           }
          ],
          "parcoords": [
           {
            "line": {
             "colorbar": {
              "outlinewidth": 0,
              "ticks": ""
             }
            },
            "type": "parcoords"
           }
          ],
          "pie": [
           {
            "automargin": true,
            "type": "pie"
           }
          ],
          "scatter": [
           {
            "fillpattern": {
             "fillmode": "overlay",
             "size": 10,
             "solidity": 0.2
            },
            "type": "scatter"
           }
          ],
          "scatter3d": [
           {
            "line": {
             "colorbar": {
              "outlinewidth": 0,
              "ticks": ""
             }
            },
            "marker": {
             "colorbar": {
              "outlinewidth": 0,
              "ticks": ""
             }
            },
            "type": "scatter3d"
           }
          ],
          "scattercarpet": [
           {
            "marker": {
             "colorbar": {
              "outlinewidth": 0,
              "ticks": ""
             }
            },
            "type": "scattercarpet"
           }
          ],
          "scattergeo": [
           {
            "marker": {
             "colorbar": {
              "outlinewidth": 0,
              "ticks": ""
             }
            },
            "type": "scattergeo"
           }
          ],
          "scattergl": [
           {
            "marker": {
             "colorbar": {
              "outlinewidth": 0,
              "ticks": ""
             }
            },
            "type": "scattergl"
           }
          ],
          "scattermapbox": [
           {
            "marker": {
             "colorbar": {
              "outlinewidth": 0,
              "ticks": ""
             }
            },
            "type": "scattermapbox"
           }
          ],
          "scatterpolar": [
           {
            "marker": {
             "colorbar": {
              "outlinewidth": 0,
              "ticks": ""
             }
            },
            "type": "scatterpolar"
           }
          ],
          "scatterpolargl": [
           {
            "marker": {
             "colorbar": {
              "outlinewidth": 0,
              "ticks": ""
             }
            },
            "type": "scatterpolargl"
           }
          ],
          "scatterternary": [
           {
            "marker": {
             "colorbar": {
              "outlinewidth": 0,
              "ticks": ""
             }
            },
            "type": "scatterternary"
           }
          ],
          "surface": [
           {
            "colorbar": {
             "outlinewidth": 0,
             "ticks": ""
            },
            "colorscale": [
             [
              0,
              "#0d0887"
             ],
             [
              0.1111111111111111,
              "#46039f"
             ],
             [
              0.2222222222222222,
              "#7201a8"
             ],
             [
              0.3333333333333333,
              "#9c179e"
             ],
             [
              0.4444444444444444,
              "#bd3786"
             ],
             [
              0.5555555555555556,
              "#d8576b"
             ],
             [
              0.6666666666666666,
              "#ed7953"
             ],
             [
              0.7777777777777778,
              "#fb9f3a"
             ],
             [
              0.8888888888888888,
              "#fdca26"
             ],
             [
              1,
              "#f0f921"
             ]
            ],
            "type": "surface"
           }
          ],
          "table": [
           {
            "cells": {
             "fill": {
              "color": "#EBF0F8"
             },
             "line": {
              "color": "white"
             }
            },
            "header": {
             "fill": {
              "color": "#C8D4E3"
             },
             "line": {
              "color": "white"
             }
            },
            "type": "table"
           }
          ]
         },
         "layout": {
          "annotationdefaults": {
           "arrowcolor": "#2a3f5f",
           "arrowhead": 0,
           "arrowwidth": 1
          },
          "autotypenumbers": "strict",
          "coloraxis": {
           "colorbar": {
            "outlinewidth": 0,
            "ticks": ""
           }
          },
          "colorscale": {
           "diverging": [
            [
             0,
             "#8e0152"
            ],
            [
             0.1,
             "#c51b7d"
            ],
            [
             0.2,
             "#de77ae"
            ],
            [
             0.3,
             "#f1b6da"
            ],
            [
             0.4,
             "#fde0ef"
            ],
            [
             0.5,
             "#f7f7f7"
            ],
            [
             0.6,
             "#e6f5d0"
            ],
            [
             0.7,
             "#b8e186"
            ],
            [
             0.8,
             "#7fbc41"
            ],
            [
             0.9,
             "#4d9221"
            ],
            [
             1,
             "#276419"
            ]
           ],
           "sequential": [
            [
             0,
             "#0d0887"
            ],
            [
             0.1111111111111111,
             "#46039f"
            ],
            [
             0.2222222222222222,
             "#7201a8"
            ],
            [
             0.3333333333333333,
             "#9c179e"
            ],
            [
             0.4444444444444444,
             "#bd3786"
            ],
            [
             0.5555555555555556,
             "#d8576b"
            ],
            [
             0.6666666666666666,
             "#ed7953"
            ],
            [
             0.7777777777777778,
             "#fb9f3a"
            ],
            [
             0.8888888888888888,
             "#fdca26"
            ],
            [
             1,
             "#f0f921"
            ]
           ],
           "sequentialminus": [
            [
             0,
             "#0d0887"
            ],
            [
             0.1111111111111111,
             "#46039f"
            ],
            [
             0.2222222222222222,
             "#7201a8"
            ],
            [
             0.3333333333333333,
             "#9c179e"
            ],
            [
             0.4444444444444444,
             "#bd3786"
            ],
            [
             0.5555555555555556,
             "#d8576b"
            ],
            [
             0.6666666666666666,
             "#ed7953"
            ],
            [
             0.7777777777777778,
             "#fb9f3a"
            ],
            [
             0.8888888888888888,
             "#fdca26"
            ],
            [
             1,
             "#f0f921"
            ]
           ]
          },
          "colorway": [
           "#636efa",
           "#EF553B",
           "#00cc96",
           "#ab63fa",
           "#FFA15A",
           "#19d3f3",
           "#FF6692",
           "#B6E880",
           "#FF97FF",
           "#FECB52"
          ],
          "font": {
           "color": "#2a3f5f"
          },
          "geo": {
           "bgcolor": "white",
           "lakecolor": "white",
           "landcolor": "#E5ECF6",
           "showlakes": true,
           "showland": true,
           "subunitcolor": "white"
          },
          "hoverlabel": {
           "align": "left"
          },
          "hovermode": "closest",
          "mapbox": {
           "style": "light"
          },
          "paper_bgcolor": "white",
          "plot_bgcolor": "#E5ECF6",
          "polar": {
           "angularaxis": {
            "gridcolor": "white",
            "linecolor": "white",
            "ticks": ""
           },
           "bgcolor": "#E5ECF6",
           "radialaxis": {
            "gridcolor": "white",
            "linecolor": "white",
            "ticks": ""
           }
          },
          "scene": {
           "xaxis": {
            "backgroundcolor": "#E5ECF6",
            "gridcolor": "white",
            "gridwidth": 2,
            "linecolor": "white",
            "showbackground": true,
            "ticks": "",
            "zerolinecolor": "white"
           },
           "yaxis": {
            "backgroundcolor": "#E5ECF6",
            "gridcolor": "white",
            "gridwidth": 2,
            "linecolor": "white",
            "showbackground": true,
            "ticks": "",
            "zerolinecolor": "white"
           },
           "zaxis": {
            "backgroundcolor": "#E5ECF6",
            "gridcolor": "white",
            "gridwidth": 2,
            "linecolor": "white",
            "showbackground": true,
            "ticks": "",
            "zerolinecolor": "white"
           }
          },
          "shapedefaults": {
           "line": {
            "color": "#2a3f5f"
           }
          },
          "ternary": {
           "aaxis": {
            "gridcolor": "white",
            "linecolor": "white",
            "ticks": ""
           },
           "baxis": {
            "gridcolor": "white",
            "linecolor": "white",
            "ticks": ""
           },
           "bgcolor": "#E5ECF6",
           "caxis": {
            "gridcolor": "white",
            "linecolor": "white",
            "ticks": ""
           }
          },
          "title": {
           "x": 0.05
          },
          "xaxis": {
           "automargin": true,
           "gridcolor": "white",
           "linecolor": "white",
           "ticks": "",
           "title": {
            "standoff": 15
           },
           "zerolinecolor": "white",
           "zerolinewidth": 2
          },
          "yaxis": {
           "automargin": true,
           "gridcolor": "white",
           "linecolor": "white",
           "ticks": "",
           "title": {
            "standoff": 15
           },
           "zerolinecolor": "white",
           "zerolinewidth": 2
          }
         }
        },
        "xaxis": {
         "anchor": "y",
         "domain": [
          0,
          1
         ],
         "title": {
          "text": "x"
         }
        },
        "yaxis": {
         "anchor": "x",
         "domain": [
          0,
          1
         ],
         "title": {
          "text": "y"
         }
        }
       }
      }
     },
     "metadata": {},
     "output_type": "display_data"
    }
   ],
   "source": [
    "x = torch.arange(0, 100)\n",
    "y = [math.cos(math.pi * (it - warmup_steps) / (max_steps - warmup_steps)) for it in x]\n",
    "px.line(x=x, y=y)"
   ]
  },
  {
   "cell_type": "markdown",
   "metadata": {},
   "source": [
    "### fused AdamW"
   ]
  },
  {
   "cell_type": "code",
   "execution_count": 69,
   "metadata": {},
   "outputs": [
    {
     "data": {
      "text/plain": [
       "mappingproxy({'params': <Parameter \"params: Union[Iterable[torch.Tensor], Iterable[Dict[str, Any]]]\">,\n",
       "              'lr': <Parameter \"lr: Union[float, torch.Tensor] = 0.001\">,\n",
       "              'betas': <Parameter \"betas: Tuple[float, float] = (0.9, 0.999)\">,\n",
       "              'eps': <Parameter \"eps: float = 1e-08\">,\n",
       "              'weight_decay': <Parameter \"weight_decay: float = 0.01\">,\n",
       "              'amsgrad': <Parameter \"amsgrad: bool = False\">,\n",
       "              'maximize': <Parameter \"maximize: bool = False\">,\n",
       "              'foreach': <Parameter \"foreach: Optional[bool] = None\">,\n",
       "              'capturable': <Parameter \"capturable: bool = False\">,\n",
       "              'differentiable': <Parameter \"differentiable: bool = False\">,\n",
       "              'fused': <Parameter \"fused: Optional[bool] = None\">})"
      ]
     },
     "execution_count": 69,
     "metadata": {},
     "output_type": "execute_result"
    }
   ],
   "source": [
    "import inspect\n",
    "inspect.signature(torch.optim.AdamW).parameters"
   ]
  },
  {
   "cell_type": "markdown",
   "metadata": {},
   "source": [
    "### Grad Accum"
   ]
  },
  {
   "cell_type": "code",
   "execution_count": 70,
   "metadata": {},
   "outputs": [
    {
     "name": "stdout",
     "output_type": "stream",
     "text": [
      "tensor(0.7315, grad_fn=<MseLossBackward0>)\n",
      "tensor([-0.0556, -0.0415,  0.0208,  0.0922, -0.0034, -0.1156,  0.1279,  0.0024,\n",
      "         0.1107, -0.0587])\n"
     ]
    }
   ],
   "source": [
    "import torch \n",
    "torch.random.manual_seed(42) \n",
    "\n",
    "net = torch.nn.Sequential(\n",
    "    torch.nn.Linear(16, 32),\n",
    "    torch.nn.GELU(),\n",
    "    torch.nn.Linear(32, 1)\n",
    ")\n",
    "\n",
    "x = torch.randn(4, 16)\n",
    "y = torch.randn(4, 1)\n",
    "net.zero_grad()\n",
    "yhat = net(x)\n",
    "loss = torch.nn.functional.mse_loss(yhat, y)\n",
    "loss.backward()\n",
    "print(loss)\n",
    "print(net[0].weight.grad.view(-1)[:10])\n",
    "\n",
    "# loss obj is due to reduction='mean'\n",
    "# L = 1/4 * [\n",
    "#         (y[0] - yhat[0])**2 +\n",
    "#         (y[1] - yhat[1])**2 +\n",
    "#         (y[2] - yhat[2])**2 +\n",
    "#         (y[3] - yhat[3])**2 +\n",
    "# ]\n",
    "# NOTE : 1/4"
   ]
  },
  {
   "cell_type": "code",
   "execution_count": 71,
   "metadata": {},
   "outputs": [
    {
     "name": "stdout",
     "output_type": "stream",
     "text": [
      "tensor(0.0014, grad_fn=<MseLossBackward0>)\n",
      "tensor(0.0003, grad_fn=<DivBackward0>) tensor(0.0003)\n",
      "tensor(0.0003, grad_fn=<DivBackward0>) tensor(0.0003)\n",
      "\n",
      "tensor(2.6965, grad_fn=<MseLossBackward0>)\n",
      "tensor(0.6741, grad_fn=<DivBackward0>) tensor(0.6745)\n",
      "tensor(0.6741, grad_fn=<DivBackward0>) tensor(0.6745)\n",
      "\n",
      "tensor(0.0344, grad_fn=<MseLossBackward0>)\n",
      "tensor(0.0086, grad_fn=<DivBackward0>) tensor(0.6831)\n",
      "tensor(0.0086, grad_fn=<DivBackward0>) tensor(0.6831)\n",
      "\n",
      "tensor(0.1937, grad_fn=<MseLossBackward0>)\n",
      "tensor(0.0484, grad_fn=<DivBackward0>) tensor(0.7315)\n",
      "tensor(0.0484, grad_fn=<DivBackward0>) tensor(0.7315)\n",
      "\n",
      "\n",
      "tensor(0.0484, grad_fn=<DivBackward0>) tensor(0.7315)\n",
      "tensor([-0.0556, -0.0415,  0.0208,  0.0922, -0.0034, -0.1156,  0.1279,  0.0024,\n",
      "         0.1107, -0.0587])\n"
     ]
    }
   ],
   "source": [
    "import torch \n",
    "torch.random.manual_seed(42) \n",
    "\n",
    "net = torch.nn.Sequential(\n",
    "    torch.nn.Linear(16, 32),\n",
    "    torch.nn.GELU(),\n",
    "    torch.nn.Linear(32, 1)\n",
    ")\n",
    "\n",
    "x = torch.randn(4, 16)\n",
    "y = torch.randn(4, 1)\n",
    "loss_accum = 0.0\n",
    "net.zero_grad()\n",
    "for i in range(4):\n",
    "    yhat = net(x[i])\n",
    "    loss = torch.nn.functional.mse_loss(yhat, y[i])\n",
    "    print(loss)\n",
    "    loss = loss / 4 # NOTE : without this 1/4 is lost!\n",
    "    loss_accum += loss.detach()\n",
    "    print(loss, loss_accum)\n",
    "    loss.backward()\n",
    "    print(loss, loss_accum)\n",
    "    print()\n",
    "\n",
    "print()\n",
    "print(loss, loss_accum)\n",
    "print(net[0].weight.grad.view(-1)[:10])\n",
    "\n",
    "# loss obj is due to reduction='mean'\n",
    "#         (y[0] - yhat[0])**2\n",
    "#         (y[1] - yhat[1])**2\n",
    "#         (y[2] - yhat[2])**2\n",
    "#         (y[3] - yhat[3])**2\n",
    "# L = L0 + L1 + L2 + L3\n",
    "# NOTE : 1/4 is lost!"
   ]
  }
 ],
 "metadata": {
  "kernelspec": {
   "display_name": "Python 3",
   "language": "python",
   "name": "python3"
  },
  "language_info": {
   "codemirror_mode": {
    "name": "ipython",
    "version": 3
   },
   "file_extension": ".py",
   "mimetype": "text/x-python",
   "name": "python",
   "nbconvert_exporter": "python",
   "pygments_lexer": "ipython3",
   "version": "3.12.6"
  }
 },
 "nbformat": 4,
 "nbformat_minor": 2
}
